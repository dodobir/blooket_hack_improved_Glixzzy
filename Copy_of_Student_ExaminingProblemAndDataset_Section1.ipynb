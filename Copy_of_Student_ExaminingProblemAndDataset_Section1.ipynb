{
  "cells": [
    {
      "cell_type": "markdown",
      "metadata": {
        "id": "view-in-github",
        "colab_type": "text"
      },
      "source": [
        "<a href=\"https://colab.research.google.com/github/dodobir/blooket_hack_improved_Glixzzy/blob/master/Copy_of_Student_ExaminingProblemAndDataset_Section1.ipynb\" target=\"_parent\"><img src=\"https://colab.research.google.com/assets/colab-badge.svg\" alt=\"Open In Colab\"/></a>"
      ]
    },
    {
      "cell_type": "markdown",
      "source": [
        "<font color=\"#de3023\"><h1><b>REMINDER MAKE A COPY OF THIS NOTEBOOK, DO NOT EDIT</b></h1></font>"
      ],
      "metadata": {
        "id": "pkc6QlfFzeYZ"
      }
    },
    {
      "cell_type": "markdown",
      "metadata": {
        "id": "iEKSC-DdOLu6"
      },
      "source": [
        "# Machine Learning for Good\n",
        "Welcome to your project! In the next 3 notebooks, we will be using the tools you learned over the past sessions in order to use machine learning to solve one of several important problems!  Select the project you are interested in and read further."
      ]
    },
    {
      "cell_type": "code",
      "execution_count": null,
      "metadata": {
        "id": "dA6TrxpUZ9F0",
        "cellView": "form"
      },
      "outputs": [],
      "source": [
        "# @title # **Run this code cell to set up the notebook!**\n",
        "# @markdown The data may take some time to load in, so feel free to move on to the next part in the meantime.\n",
        "\n",
        "project = \"histology\" # @param [\"Choose your dataset!\", \"bees\", \"histology\", \"beans\", \"malaria\"]\n",
        "\n",
        "import requests\n",
        "from IPython.display import Markdown, display\n",
        "\n",
        "import tensorflow_datasets as tfds\n",
        "from tensorflow.image import resize_with_pad, ResizeMethod\n",
        "\n",
        "import numpy as np\n",
        "import pandas as pd\n",
        "import seaborn as sns\n",
        "import matplotlib.pyplot as plt\n",
        "\n",
        "from PIL import Image\n",
        "from skimage import data, color\n",
        "from skimage.transform import rescale, resize, downscale_local_mean\n",
        "\n",
        "from sklearn.model_selection import train_test_split\n",
        "from sklearn.metrics import accuracy_score\n",
        "\n",
        "def ProjectDescription(project):\n",
        "  display_str =  f\"**[{project.capitalize()} Project Background Document]({article_url_dict[project]})** <br />\"\n",
        "  display_str += f\"**[{project.capitalize()} Dataset Documentation]({dataset_documentation_url_dict[project]})** <br />\"\n",
        "  display(Markdown(display_str))\n",
        "  response = requests.get(image_url_dict[project], stream=True)\n",
        "  img = Image.open(response.raw)\n",
        "  plt.imshow(img)\n",
        "  plt.axis('off')\n",
        "  plt.show()\n",
        "\n",
        "# URL dictionaries for the projects\n",
        "article_url_dict = {\n",
        "    \"beans\"     : \"https://docs.google.com/document/d/19AcNUO-9F4E9Jtc4bvFslGhyuM5pLxjCqKYV3rUaiCc/edit?usp=sharing\",\n",
        "    \"malaria\"   : \"https://docs.google.com/document/d/1u_iX2oDrEZ1clhFefpP3V8uwAjf7EUV4G6kq_3JDcVY/edit?usp=sharing\",\n",
        "    \"histology\" : \"https://docs.google.com/document/d/162WhUE9KqCgq_I7-VvENZD2n1IVsbeXVRSwfJEkxAqQ/edit?usp=sharing\",\n",
        "    \"bees\"      : \"https://docs.google.com/document/d/1PUB_JuYHi6zyHsWAhkIb7D7ExeB1EfI09arc6Ad1bUY/edit?usp=sharing\"\n",
        "}\n",
        "\n",
        "image_url_dict = {\n",
        "    \"beans\"     : \"https://storage.googleapis.com/tfds-data/visualization/fig/beans-0.1.0.png\",\n",
        "    \"malaria\"   : \"https://storage.googleapis.com/tfds-data/visualization/fig/malaria-1.0.0.png\",\n",
        "    \"histology\" : \"https://storage.googleapis.com/tfds-data/visualization/fig/colorectal_histology-2.0.0.png\",\n",
        "    \"bees\"      : \"https://storage.googleapis.com/tfds-data/visualization/fig/bee_dataset-bee_dataset_300-1.0.0.png\"\n",
        "}\n",
        "\n",
        "download_url_prefix_dict = {\n",
        "    \"histology\" : \"https://storage.googleapis.com/inspirit-ai-data-bucket-1/Data/AI%20Scholars/Sessions%206%20-%2010%20(Projects)/Project%20-%20Towards%20Precision%20Medicine/\",\n",
        "    \"bees\"      : \"https://storage.googleapis.com/inspirit-ai-data-bucket-1/Data/AI%20Scholars/Sessions%206%20-%2010%20(Projects)/Project%20-%20Safeguarding%20Bee%20Health/\"\n",
        "}\n",
        "\n",
        "dataset_documentation_url_dict = {\n",
        "    \"beans\"     : \"https://www.tensorflow.org/datasets/catalog/beans\",\n",
        "    \"malaria\"   : \"https://www.tensorflow.org/datasets/catalog/malaria\",\n",
        "    \"bees\"      : \"https://www.tensorflow.org/datasets/catalog/bee_dataset\",\n",
        "    \"histology\" : \"https://www.tensorflow.org/datasets/catalog/colorectal_histology\",\n",
        "}\n",
        "\n",
        "# Load dataset\n",
        "if project == \"Choose your dataset!\":\n",
        "  print(\"Please choose your dataset from the dropdown menu!\")\n",
        "\n",
        "elif project == \"beans\":\n",
        "  data,  info = tfds.load('beans', split='train[:1024]', as_supervised=True, with_info=True)\n",
        "  feature_dict = info.features['label'].names\n",
        "  images = np.array([resize_with_pad(image, 128, 128, antialias=True) for image,_ in data]).astype(int)\n",
        "  labels = [feature_dict[int(label)] for image,label in data]\n",
        "\n",
        "elif project == \"malaria\":\n",
        "  data,  info = tfds.load('malaria', split='train[:1024]', as_supervised=True, with_info=True)\n",
        "  images = np.array([resize_with_pad(image, 256, 256, antialias=True) for image,_ in data]).astype(np.uint8)\n",
        "  labels = ['malaria' if label==1 else 'healthy' for image,label in data]\n",
        "\n",
        "else:\n",
        "  wget_command = f'wget -q --show-progress \"{download_url_prefix_dict[project]}'\n",
        "  !{wget_command + 'images.npy\" '}\n",
        "  !{wget_command + 'labels.npy\" '}\n",
        "\n",
        "  images = np.load('images.npy')\n",
        "  labels = np.load('labels.npy')\n",
        "\n",
        "  !rm images.npy labels.npy\n",
        "\n",
        "\n",
        "# Original preprocessing code for datasets\n",
        "\n",
        "# if project == \"histology\":\n",
        "#   data,  info = tfds.load('colorectal_histology', split='train[:1024]', as_supervised=True, with_info=True)\n",
        "#   feature_dict = info.features['label'].names\n",
        "#   images = np.array([image for image,label in data]).astype(int)\n",
        "#   labels = [feature_dict[int(label)] for image,label in data]\n",
        "\n",
        "# if project == \"bees\":\n",
        "#   data,  info = tfds.load('bee_dataset', split='train[:3200]', as_supervised=True, with_info=True)\n",
        "#   data = [(image, label) for image,label in data if label['wasps_output']==0]\n",
        "#   data1 = [(image, label) for image,label in data if label['varroa_output']==0][:500]\n",
        "#   data2 = [(image, label) for image,label in data if label['varroa_output']==1][:500]\n",
        "#   data = data1 + data2\n",
        "#   images = np.array([image for image, _ in data]).astype(int)\n",
        "#   labels = ['diseased' if label['varroa_output'] else 'healthy' for image,label in data]"
      ]
    },
    {
      "cell_type": "markdown",
      "metadata": {
        "id": "RcaHmR0wgxvE"
      },
      "source": [
        "# PART I: Project Background"
      ]
    },
    {
      "cell_type": "markdown",
      "metadata": {
        "id": "1Xn84HXzgE0-"
      },
      "source": [
        "## 🛗 Elevator Pitch\n",
        "\n",
        "<center><img src=\"https://encrypted-tbn0.gstatic.com/images?q=tbn:ANd9GcTgOQKSQqiJYeXLoqgpqxtQj48XnYKongBZww&usqp=CAU\" width=200></center>"
      ]
    },
    {
      "cell_type": "markdown",
      "metadata": {
        "id": "IWFq4E3xgV_O"
      },
      "source": [
        "An [***elevator pitch***](https://zapier.com/blog/elevator-pitch-example/) is a brief way of introducing yourself, getting across a key point or two, and making a connection with someone. Think 30 seconds, the amount of time you would spend talking to someone on an elevator! They have become popular in the business & technology world as a helpful exercise in distilling down the big picture, and efficient way to quickly make connections.\n",
        "\n"
      ]
    },
    {
      "cell_type": "markdown",
      "metadata": {
        "id": "bhFpV8fyh5Ab"
      },
      "source": [
        "### 🗣 Exercise 1A: Crafting Your Elevator Pitch\n",
        "\n",
        "\n"
      ]
    },
    {
      "cell_type": "markdown",
      "source": [
        "Run the cell below to start taking a look at background documents for this project and a quick sneak peek of the dataset, which should be helpful in developing your pitch!\n",
        "\n",
        "If you want more information beyond the dataset documentation on how your dataset is created, take a look at the end of the hidden code cell at the top of the notebook!"
      ],
      "metadata": {
        "id": "k9EBpXGWOPgp"
      }
    },
    {
      "cell_type": "code",
      "source": [
        "ProjectDescription(project)"
      ],
      "metadata": {
        "id": "ljjPAZLOaF6M"
      },
      "execution_count": null,
      "outputs": []
    },
    {
      "cell_type": "markdown",
      "metadata": {
        "id": "9FoPKDkxgxYe"
      },
      "source": [
        "Take 5-15 minutes to look through these resources and come up with a 3-5 sentence elevator pitch for your project!\n",
        "\n",
        "Think about:\n",
        "- The why: Why does your project matter? What unmet need is it going to solve?\n",
        "- The what: What are some potential solutions you could develop for the proposed problem in your project?\n",
        "- The how (optional): How would you start to think about implementing these solutions?\n",
        "\n",
        "Write down your elevator pitch and deliver it to a partner or the group! This will be a great way for you to practice for the presentation later in the program.\n",
        "\n"
      ]
    },
    {
      "cell_type": "markdown",
      "metadata": {
        "id": "u9OnZLjuh5R1"
      },
      "source": [
        "#### **Elevator Pitch:**\n",
        "\n",
        "DRAFT YOUR ELEVATOR PITCH HERE (Double click into this text cell to edit!)"
      ]
    },
    {
      "cell_type": "markdown",
      "metadata": {
        "id": "2OTf0rs7xYpW"
      },
      "source": [
        "## 👜 Stakeholders\n",
        "\n",
        "<center><img src=\"https://upload.wikimedia.org/wikipedia/commons/thumb/5/56/Stakeholder_%28en%29.svg/1200px-Stakeholder_%28en%29.svg.png\" width=400></center>\n",
        "\n",
        "A **stakeholder** is a person or organization who might have a personal, financial, legal, or ethical interest in a business or product. Stakeholders might be\n",
        "- Employees or owners of a company or product\n",
        "- People or companies involved in the upstream supplying or building of a product\n",
        "- Customers or other companies using the product\n",
        "- Government or other parties regulating the product\n",
        "\n",
        "\n",
        "\n",
        "\n",
        "\n",
        "\n"
      ]
    },
    {
      "cell_type": "markdown",
      "metadata": {
        "id": "fobgMn6uKBsG"
      },
      "source": [
        "### 🗣 Exercise 1B: Stakeholders\n",
        "Name three stakeholders for your project.  \n"
      ]
    },
    {
      "cell_type": "code",
      "execution_count": null,
      "metadata": {
        "id": "Rf3LGsj1Jwri",
        "cellView": "form"
      },
      "outputs": [],
      "source": [
        "# @title\n",
        "stakeholder_1 = \"\" # @param {type:\"string\"}\n",
        "stakeholder_2 = \"\" # @param {type:\"string\"}\n",
        "stakeholder_3 = \"\" # @param {type:\"string\"}\n",
        "\n"
      ]
    },
    {
      "cell_type": "markdown",
      "metadata": {
        "id": "axkuoBYrjtvT"
      },
      "source": [
        "## ⚖️ Ethics"
      ]
    },
    {
      "cell_type": "markdown",
      "metadata": {
        "id": "eVMqeildjtvT"
      },
      "source": [
        "It's important to start thinking early about the ethical concerns and implications involving machine learning in your project. Before we dive deep into your data, let's think a little about the ethics surrounding your project.\n",
        "\n",
        "You might want to think about ethical issues involving:\n",
        "- Bias\n",
        "- Privacy\n",
        "- Autonomy\n",
        "- Security\n",
        "- Accountability\n",
        "- Transparency\n",
        "- Interpretability\n",
        "\n",
        "\n"
      ]
    },
    {
      "cell_type": "markdown",
      "metadata": {
        "id": "NKtoq6tsyJYs"
      },
      "source": [
        "### 🗣 Exercise 1C: Ethical Concerns"
      ]
    },
    {
      "cell_type": "markdown",
      "metadata": {
        "id": "_S62_RJ1jtvU"
      },
      "source": [
        "What might be some ethical concerns stakeholders might have about your project?"
      ]
    },
    {
      "cell_type": "code",
      "execution_count": null,
      "metadata": {
        "cellView": "form",
        "id": "0-FK2Xy5jtvU"
      },
      "outputs": [],
      "source": [
        "# @title\n",
        "_1_ = \"\" # @param {type:\"string\"}\n",
        "_2_ = \"\" # @param {type:\"string\"}\n",
        "_3_ = \"\" # @param {type:\"string\"}\n"
      ]
    },
    {
      "cell_type": "markdown",
      "metadata": {
        "id": "_VmbwtkiyMdV"
      },
      "source": [
        "### 🗣 Exercise 1D: Solutions to These Ethical Concerns"
      ]
    },
    {
      "cell_type": "markdown",
      "metadata": {
        "id": "jklaaw9pjtvU"
      },
      "source": [
        "How might you go about mitigating each of these concerns?\n",
        "\n"
      ]
    },
    {
      "cell_type": "code",
      "source": [
        "# @title\n",
        "_1_ = \"\" # @param {type:\"string\"}\n",
        "_2_ = \"\" # @param {type:\"string\"}\n",
        "_3_ = \"\" # @param {type:\"string\"}"
      ],
      "metadata": {
        "cellView": "form",
        "id": "xAabRym4hzW9"
      },
      "execution_count": null,
      "outputs": []
    },
    {
      "cell_type": "markdown",
      "metadata": {
        "id": "jZSb7aRFyCCg"
      },
      "source": [
        "### 🗣 Exercise 1E: Describing the Problem"
      ]
    },
    {
      "cell_type": "markdown",
      "metadata": {
        "id": "XBNwnvVKX5aU"
      },
      "source": [
        "Remember that ***supervised*** learning is a type of machine learning where a model is trained on labeled data, with the aim of predicting or classifying new data based on the patterns it learns between the input features and labels. In this project we are going to build a supervised machine learning project that is relevant to your project.\n",
        "\n",
        "Identify what the features and labels would be in your supervised machine learning model. What would be some ways of obtaining this dataset?"
      ]
    },
    {
      "cell_type": "code",
      "execution_count": null,
      "metadata": {
        "id": "8UbKrgJCKiAY",
        "cellView": "form"
      },
      "outputs": [],
      "source": [
        "# @title\n",
        "features_X = \"\" # @param {type:\"string\"}\n",
        "labels_y = \"\" # @param {type:\"string\"}\n",
        "how_to_get = \"\" # @param {type:\"string\"}\n"
      ]
    },
    {
      "cell_type": "markdown",
      "metadata": {
        "id": "K1GNTfnqw3X2"
      },
      "source": [
        "# PART II: The Dataset\n",
        "<center><img src=\"https://miro.medium.com/v2/resize:fit:1200/1*l85zQU68tFsKsan25bJtMg.jpeg\" height=300>"
      ]
    },
    {
      "cell_type": "markdown",
      "metadata": {
        "id": "weMcjKZjybgP"
      },
      "source": [
        "## 💠 Exploring the Data\n",
        "\n"
      ]
    },
    {
      "cell_type": "markdown",
      "metadata": {
        "id": "BIEfstBmL6RX"
      },
      "source": [
        "It's important to understand how many samples, features, and labels are in our dataset so that we can choose what types of models are appropriate, and how we might want to preprocess our data.\n",
        "\n",
        "We have uploaded a set of images for you, inside the variable ***`images`*** and the corresponding set of labels inside the variable ***`labels`***. Run the code cell below to get a sense of what the data looks like.\n"
      ]
    },
    {
      "cell_type": "code",
      "source": [
        "print(images[0]) # Print out the first image\n",
        "print(labels) # Print out the list of labels"
      ],
      "metadata": {
        "id": "OsFuVmhdd8dl"
      },
      "execution_count": null,
      "outputs": []
    },
    {
      "cell_type": "markdown",
      "metadata": {
        "id": "-JSZnFkUzIzT"
      },
      "source": [
        "### 💻 Exercise 2A: Examining the Dataset\n"
      ]
    },
    {
      "cell_type": "markdown",
      "metadata": {
        "id": "o1UB78_UMFBP"
      },
      "source": [
        "The data you printed above might be a little hard to make sense of! Let's see how else we can investigate the dataset and learn from it:\n",
        "\n",
        "First, let's take a look at the overall shape of the dataset using the [`.shape`](https://numpy.org/doc/stable/reference/generated/numpy.ndarray.shape.html) attribute. Take a look at the examples on the documentation link if you're unfamiliar with this!\n",
        "\n",
        "Once you're able to print this out, discuss what each dimension might signify. Do you think this will be enough data for your models to learn the solution to the problem? If your model is unable to effectively learn the solution, what could you do with respect to the data to improve the results?"
      ]
    },
    {
      "cell_type": "code",
      "execution_count": null,
      "metadata": {
        "id": "xdx3uRntMW_C"
      },
      "outputs": [],
      "source": [
        "dimensions = None ### YOUR CODE HERE\n",
        "\n",
        "print('Dimensions of dataset:', dimensions)"
      ]
    },
    {
      "cell_type": "markdown",
      "source": [
        "Let's now take a look at our labels! How many of each label are there in our dataset? Why might this be important to check?\n",
        "\n",
        "The Seaborn library allows us to easily plot histograms from a list of data, using [`sns.histplot()`](https://seaborn.pydata.org/generated/seaborn.histplot.html). Try taking a look at the documentation to see how you might use this for your `labels` data. If you have time during or after class, feel free to look at the  documentation and examples to play around with the way the plot looks!"
      ],
      "metadata": {
        "id": "XG8jyMhhbtoa"
      }
    },
    {
      "cell_type": "code",
      "source": [
        "### YOUR CODE HERE\n",
        "\n",
        "### END CODE HERE\n",
        "\n",
        "plt.xlabel('Labels')\n",
        "plt.ylabel('Frequency')\n",
        "plt.title('Histogram of Labels')\n",
        "plt.show()"
      ],
      "metadata": {
        "id": "H-UQPXO_aeHe"
      },
      "execution_count": null,
      "outputs": []
    },
    {
      "cell_type": "markdown",
      "metadata": {
        "id": "1YfWfeatylZt"
      },
      "source": [
        "## 🔎 Looking at Some Examples"
      ]
    },
    {
      "cell_type": "markdown",
      "metadata": {
        "id": "94rB73ipT_sR"
      },
      "source": [
        "Run the following code to visualize an image and its label from the training dataset."
      ]
    },
    {
      "cell_type": "code",
      "execution_count": null,
      "metadata": {
        "id": "XrmjUYkQT1iE"
      },
      "outputs": [],
      "source": [
        "i = 100 # We are going to look at the i'th image in the dataset.\n",
        "plt.imshow(images[i]) # Use matplotlib imshow() function to visualize an image.\n",
        "plt.title(labels[i]) # Set the label of the image as the title\n",
        "plt.show() # Show your plot."
      ]
    },
    {
      "cell_type": "markdown",
      "metadata": {
        "id": "h19hnxgMzRfa"
      },
      "source": [
        "### 💻 Exercise 2B: Visualizing our Dataset\n",
        "\n",
        "\n",
        "Iterate through your dataset and use the visualization library Matplotlib (using the `plt` alias) to visualize the first 5 images along with their labels. You can use the code above as a hint!\n",
        "\n",
        "**BONUS**:  Visualize exactly one image from each label/category! What unique characteristics do you notice in each category? Do you think it’ll be difficult for your model to tell these categories apart?\n"
      ]
    },
    {
      "cell_type": "code",
      "execution_count": null,
      "metadata": {
        "id": "_yZkeKM0GsCk"
      },
      "outputs": [],
      "source": [
        "### YOUR CODE HERE"
      ]
    },
    {
      "cell_type": "markdown",
      "metadata": {
        "id": "Pt2iDrz_e709"
      },
      "source": [
        "# Part III: Brainstorming Solutions to the Problem"
      ]
    },
    {
      "cell_type": "markdown",
      "metadata": {
        "id": "wwN8A9NtzNGE"
      },
      "source": [
        "## 🧪 Testing a Few Simple Hypotheses\n"
      ]
    },
    {
      "cell_type": "markdown",
      "metadata": {
        "id": "8Hn1zrCuzT7F"
      },
      "source": [
        "### 🗣 Exercise 3A: Brainstorming Classification Rules\n",
        "\n",
        "\n"
      ]
    },
    {
      "cell_type": "markdown",
      "metadata": {
        "id": "gh5cUG2uaV1C"
      },
      "source": [
        "Look through a few of your images and brainstorm some simple rules for how you might classify an image. (You can do some domain research on the internet as well!)\n",
        "\n"
      ]
    },
    {
      "cell_type": "code",
      "execution_count": null,
      "metadata": {
        "id": "8_e3QohjzTcQ",
        "cellView": "form"
      },
      "outputs": [],
      "source": [
        "# @title\n",
        "rule_1 = \"\" # @param {type:\"string\"}\n",
        "rule_2 = \"\" # @param {type:\"string\"}\n",
        "rule_3 = \"\" # @param {type:\"string\"}"
      ]
    },
    {
      "cell_type": "markdown",
      "metadata": {
        "id": "7vxIVnSUamO9"
      },
      "source": [
        "### 🗣 Exercise 3B: Breaking Our Rules"
      ]
    },
    {
      "cell_type": "markdown",
      "metadata": {
        "id": "PiKvH1L1amPH"
      },
      "source": [
        "Try to find an image that breaks each of your rules. (Spend ~5 minutes on this - some rules might be harder than others to break!)"
      ]
    },
    {
      "cell_type": "markdown",
      "metadata": {
        "id": "d_fFdZ6vHSic"
      },
      "source": [
        "## 💻 Machine Learning Models\n",
        "\n",
        "You've learned a lot about machine learning models in the program! Some supervised machine learning models you have touched on have been: K-means classifiers, logistic regression, linear regression, and neural networks!\n",
        "\n",
        "<center><img src=\"https://upload.wikimedia.org/wikipedia/commons/0/09/Supervised_machine_learning_in_a_nutshell.svg\" height=200>"
      ]
    },
    {
      "cell_type": "markdown",
      "metadata": {
        "id": "CtGOfyO5j32Z"
      },
      "source": [
        "### 🗣 Exercise 3C: Models for our Project\n"
      ]
    },
    {
      "cell_type": "markdown",
      "metadata": {
        "id": "9-g8N4cHjgQm"
      },
      "source": [
        "Next time we are going to build your first model for your project. Using what you've learned in the program, what are two or three machine learning techniques or models you think might work well for your dataset? Put them in the order of how well you think they'd perform and explain why!\n"
      ]
    },
    {
      "cell_type": "code",
      "execution_count": null,
      "metadata": {
        "id": "u5msWuM6j10z",
        "cellView": "form"
      },
      "outputs": [],
      "source": [
        "# @title\n",
        "_1_ = \"\" # @param {type:\"string\"}\n",
        "_2_ = \"\" # @param {type:\"string\"}\n",
        "_3_ = \"\" # @param {type:\"string\"}"
      ]
    },
    {
      "cell_type": "markdown",
      "metadata": {
        "id": "ZXGNjAVQAKzi"
      },
      "source": [
        "## 🎁 Wrapping Up\n",
        "\n",
        "Great work! You've now thought deeply about the motivation behind your project, its stakeholders, and ethical concerns, as well as examined your data for potential hypotheses. Next up, we will see how to build and evaluate your machine learning model!"
      ]
    }
  ],
  "metadata": {
    "colab": {
      "provenance": [],
      "include_colab_link": true
    },
    "kernelspec": {
      "display_name": "Python 3",
      "name": "python3"
    },
    "language_info": {
      "name": "python"
    }
  },
  "nbformat": 4,
  "nbformat_minor": 0
}